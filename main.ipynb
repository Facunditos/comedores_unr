{
 "cells": [
  {
   "cell_type": "markdown",
   "id": "316b1ec8",
   "metadata": {},
   "source": [
    "# Librerías"
   ]
  },
  {
   "cell_type": "code",
   "execution_count": 16,
   "id": "4534728f",
   "metadata": {},
   "outputs": [],
   "source": [
    "from selenium import webdriver\n",
    "from selenium.webdriver.common.by import By\n",
    "from selenium.webdriver.chrome.service import Service\n",
    "from selenium.webdriver.chrome.options import Options\n",
    "from selenium.webdriver.support.ui import WebDriverWait\n",
    "from selenium.webdriver.support import expected_conditions as EC\n",
    "from selenium.webdriver.common.by import By\n",
    "import  pywhatkit as kit\n",
    "from datetime import datetime\n",
    "from time import sleep\n",
    "import os\n",
    "import time"
   ]
  },
  {
   "cell_type": "code",
   "execution_count": 2,
   "id": "3dccc00e",
   "metadata": {},
   "outputs": [],
   "source": [
    "chrome_options = Options()\n",
    "chrome_options.add_argument('--headless')\n",
    "chrome_options.add_argument('--no-sandbox')\n",
    "chrome_options.add_argument('--disable-dev-shm-usage')\n",
    "chrome_options.add_argument('--disable-gpu')\n",
    "service = Service('/usr/bin/chromedriver')"
   ]
  },
  {
   "cell_type": "markdown",
   "id": "897c92bc",
   "metadata": {},
   "source": [
    "Comedor Universitario Siberia\n",
    "SELECCIONAR\n",
    "Comedor ESC AGROTECNICA\n",
    "SELECCIONAR\n",
    "Comedor Universitario Área Salud\n",
    "SELECCIONAR\n",
    "Comedor Universitario FCEIA\n",
    "SELECCIONAR\n",
    "Comedor Universitario Zavalla\n",
    "SELECCIONAR\n",
    "Comedor Universitario Casilda\n",
    "SELECCIONAR\n",
    "Comedor Universitario Área Centro"
   ]
  },
  {
   "cell_type": "code",
   "execution_count": 31,
   "id": "3fbde8f2",
   "metadata": {},
   "outputs": [],
   "source": [
    "cod_comedores = {\n",
    "    'siberia' : 0,\n",
    "    'agrotecnia' : 1,\n",
    "    'salud' : 2,\n",
    "    'fceia' : 3,\n",
    "    'zaballa' : 4,\n",
    "    'casilda' : 5,\n",
    "    'centro' : 6,\n",
    "}"
   ]
  },
  {
   "cell_type": "code",
   "execution_count": 39,
   "id": "72439c20",
   "metadata": {},
   "outputs": [],
   "source": [
    "cod_menues_salud = {\n",
    "    'des' : 0,\n",
    "    'alm_llevar_14' : 1,\n",
    "    'alm_llevar_13' : 2,\n",
    "    'alm_llevar_12' : 3,\n",
    "    'alm_llevar_11' : 4,\n",
    "    'alm_no_llevar_14' : 5,\n",
    "    'alm_no_llevar_13' : 6,\n",
    "    'alm_no_llevar_12' : 7,\n",
    "    'mer' : 8,\n",
    "    'cen_llevar' : 9,\n",
    "    'cen_no_llevar_20' : 10,\n",
    "    'cen_no_llevar_19.30' : 11,\n",
    "}"
   ]
  },
  {
   "cell_type": "code",
   "execution_count": 55,
   "id": "ce30a3e6",
   "metadata": {},
   "outputs": [
    {
     "name": "stdout",
     "output_type": "stream",
     "text": [
      "formulario recibido\n",
      "formulario enviado\n",
      "Ingreso a Salud\n",
      "Reserva de turno para Comedor Universitario Área Salud\n",
      "avancemos en reservar....\n",
      "Información\n",
      "Comedor Universitario Área Salud\n",
      "ALMUERZO PARA LLEVAR\n",
      "De 11:00 a 12:00\n",
      "Reserva de turno\n",
      "https://comedores.unr.edu.ar/comedor-reserva/reservar\n"
     ]
    }
   ],
   "source": [
    "# Abrir la página web\n",
    "driver = webdriver.Chrome(options=chrome_options)\n",
    "try:\n",
    "    url_login = \"https://comedores.unr.edu.ar/\"\n",
    "    url_reservas = \"https://comedores.unr.edu.ar/comedor-reserva/reservar\"\n",
    "    driver.get(url_login)\n",
    "    # Capturar el elemento formulario\n",
    "    e_form = WebDriverWait(driver=driver, timeout=2).until(\n",
    "        EC.presence_of_element_located(locator=(By.ID, \"form-login\"))\n",
    "    )\n",
    "    print('formulario recibido')\n",
    "    # Capturar los elementos del formulario\n",
    "    e_input_dni = e_form.find_element(by=By.NAME,value='form-login[dni]')\n",
    "    e_input_clave = e_form.find_element(by=By.NAME,value='form-login[clave]')\n",
    "    e_boton = e_form.find_element(by=By.NAME,value='botones[botonEnviar]')\n",
    "    # Completar el forumalario y enviarlo\n",
    "    e_input_dni.send_keys('34178096')\n",
    "    e_input_clave.send_keys('facundo0301')\n",
    "    e_boton.click()\n",
    "    print('formulario enviado')\n",
    "    # Ingresar a la sección de reserva\n",
    "    driver.get(url_reservas)\n",
    "    e_contenedor_comedores = WebDriverWait(driver=driver, timeout=2).until(\n",
    "        EC.presence_of_element_located(locator=(By.CLASS_NAME,'reservar-comedores-contenedor'))\n",
    "    )\n",
    "    titulo = driver.find_element(by=By.TAG_NAME,value='h1')\n",
    "    e_botones_comedores = e_contenedor_comedores.find_elements(by=By.TAG_NAME,value='button')\n",
    "    n_boton_salud = cod_comedores['salud']\n",
    "    e_boton_salud = e_botones_comedores[n_boton_salud]\n",
    "    # Ingresar al comedor de Salud\n",
    "    e_boton_salud.click()\n",
    "    print('Ingreso a Salud')\n",
    "    titulo = driver.find_element(by=By.TAG_NAME,value='h1')\n",
    "    print(titulo.text)\n",
    "    op_reservas = driver.find_elements(by=By.CLASS_NAME,value='reservar-servicio')\n",
    "    n_op_alm_llevar_11 = cod_menues_salud['alm_llevar_11']\n",
    "    op_alm_llevar_11 = op_reservas[n_op_alm_llevar_11]\n",
    "    op_alm_llevar_11.click()\n",
    "    driver.implicitly_wait(20)\n",
    "    print('avancemos en reservar....')\n",
    "    e_resumen = driver.find_element(by=By.CLASS_NAME,value='reserva-resumen-card')\n",
    "    print(e_resumen.text)\n",
    "            \n",
    "except Exception as e:\n",
    "    print(f\"Ocurrió un error al visitar la página: {e}.\")\n",
    "\n",
    "finally:\n",
    "    # Close the WebDriver\n",
    "    print(driver.title)\n",
    "    print(driver.current_url)   \n",
    "    driver.quit()"
   ]
  }
 ],
 "metadata": {
  "kernelspec": {
   "display_name": "Python 3",
   "language": "python",
   "name": "python3"
  },
  "language_info": {
   "codemirror_mode": {
    "name": "ipython",
    "version": 3
   },
   "file_extension": ".py",
   "mimetype": "text/x-python",
   "name": "python",
   "nbconvert_exporter": "python",
   "pygments_lexer": "ipython3",
   "version": "3.11.9"
  }
 },
 "nbformat": 4,
 "nbformat_minor": 5
}
