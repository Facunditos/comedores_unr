{
 "cells": [
  {
   "cell_type": "markdown",
   "id": "316b1ec8",
   "metadata": {},
   "source": [
    "# Librerías"
   ]
  },
  {
   "cell_type": "code",
   "execution_count": 20,
   "id": "4534728f",
   "metadata": {},
   "outputs": [],
   "source": [
    "from selenium import webdriver\n",
    "from selenium.webdriver.common.by import By\n",
    "from selenium.webdriver.chrome.service import Service\n",
    "from selenium.webdriver.chrome.options import Options\n",
    "from selenium.webdriver.support.ui import WebDriverWait\n",
    "from selenium.webdriver.support import expected_conditions as EC\n",
    "from selenium.webdriver.common.by import By\n",
    "import  pywhatkit as kit\n",
    "from datetime import datetime\n",
    "from time import sleep\n",
    "import pandas as pd\n",
    "import os\n",
    "import time"
   ]
  },
  {
   "cell_type": "code",
   "execution_count": 21,
   "id": "3dccc00e",
   "metadata": {},
   "outputs": [],
   "source": [
    "chrome_options = Options()\n",
    "chrome_options.add_argument('--headless')\n",
    "chrome_options.add_argument('--no-sandbox')\n",
    "chrome_options.add_argument('--disable-dev-shm-usage')\n",
    "chrome_options.add_argument('--disable-gpu')\n",
    "service = Service('/usr/bin/chromedriver')"
   ]
  },
  {
   "cell_type": "markdown",
   "id": "897c92bc",
   "metadata": {},
   "source": [
    "Comedor Universitario Siberia\n",
    "SELECCIONAR\n",
    "Comedor ESC AGROTECNICA\n",
    "SELECCIONAR\n",
    "Comedor Universitario Área Salud\n",
    "SELECCIONAR\n",
    "Comedor Universitario FCEIA\n",
    "SELECCIONAR\n",
    "Comedor Universitario Zavalla\n",
    "SELECCIONAR\n",
    "Comedor Universitario Casilda\n",
    "SELECCIONAR\n",
    "Comedor Universitario Área Centro"
   ]
  },
  {
   "cell_type": "code",
   "execution_count": 22,
   "id": "3fbde8f2",
   "metadata": {},
   "outputs": [],
   "source": [
    "cod_comedores = {\n",
    "    'siberia' : 0,\n",
    "    'agrotecnia' : 1,\n",
    "    'salud' : 2,\n",
    "    'fceia' : 3,\n",
    "    'zaballa' : 4,\n",
    "    'casilda' : 5,\n",
    "    'centro' : 6,\n",
    "}"
   ]
  },
  {
   "cell_type": "code",
   "execution_count": 23,
   "id": "72439c20",
   "metadata": {},
   "outputs": [],
   "source": [
    "cod_menues_salud = {\n",
    "    'des' : 0,\n",
    "    'alm_llevar_14' : 1,\n",
    "    'alm_llevar_13' : 2,\n",
    "    'alm_llevar_12' : 3,\n",
    "    'alm_llevar_11' : 4,\n",
    "    'alm_no_llevar_14' : 5,\n",
    "    'alm_no_llevar_13' : 6,\n",
    "    'alm_no_llevar_12' : 7,\n",
    "    'mer' : 8,\n",
    "    'cen_llevar' : 9,\n",
    "    'cen_no_llevar_20' : 10,\n",
    "    'cen_no_llevar_19.30' : 11,\n",
    "}\n",
    "\n",
    "cod_menues_siberia = {\n",
    "    'des' : 0,\n",
    "    'alm_llevar_14' : 1,\n",
    "    'alm_llevar_13' : 2,\n",
    "    'alm_llevar_12' : 3,\n",
    "    'alm_llevar_11' : 4,\n",
    "    'alm_no_llevar_14' : 5,\n",
    "    'alm_no_llevar_13' : 6,\n",
    "    'alm_no_llevar_12' : 7,\n",
    "    'mer' : 8,\n",
    "    'cen_llevar' : 9,\n",
    "    'cen_no_llevar_20' : 10,\n",
    "    'cen_no_llevar_19.30' : 11,\n",
    "}\n",
    "\n",
    "cod_menues_fceia = {\n",
    "    'des' : 0,\n",
    "    'alm_llevar' : 1,\n",
    "    'alm_no_llevar_14' : 2,\n",
    "    'alm_no_llevar_13' : 3,\n",
    "    'alm_no_llevar_12' : 4,\n",
    "    'mer' : 5,\n",
    "    'cen_llevar' : 9,\n",
    "    'cen_no_llevar_20' : 10,\n",
    "    'cen_no_llevar_19.30' : 11,\n",
    "}"
   ]
  },
  {
   "cell_type": "code",
   "execution_count": 24,
   "id": "a567006c",
   "metadata": {},
   "outputs": [
    {
     "data": {
      "text/plain": [
       "0"
      ]
     },
     "execution_count": 24,
     "metadata": {},
     "output_type": "execute_result"
    }
   ],
   "source": [
    "op_menu_df = pd.read_excel('./facundo.xlsx',sheet_name='opciones_menu')\n",
    "op_menu_df['fceia'].to_list().index('des')"
   ]
  },
  {
   "cell_type": "code",
   "execution_count": 25,
   "id": "f09a675c",
   "metadata": {},
   "outputs": [
    {
     "data": {
      "text/plain": [
       "0"
      ]
     },
     "execution_count": 25,
     "metadata": {},
     "output_type": "execute_result"
    }
   ],
   "source": [
    "comedores_df = pd.read_excel('./facundo.xlsx',sheet_name='comedores')\n",
    "comedores_df['comedores'].to_list().index('siberia')"
   ]
  },
  {
   "cell_type": "code",
   "execution_count": 26,
   "id": "d5e1dae8",
   "metadata": {},
   "outputs": [
    {
     "name": "stderr",
     "output_type": "stream",
     "text": [
      "C:\\Users\\Usuario\\AppData\\Roaming\\Python\\Python311\\site-packages\\openpyxl\\worksheet\\_reader.py:329: UserWarning: Data Validation extension is not supported and will be removed\n",
      "  warn(msg)\n"
     ]
    },
    {
     "data": {
      "text/plain": [
       "0    26\n",
       "1    26\n",
       "2    27\n",
       "3    28\n",
       "4    29\n",
       "5    30\n",
       "Name: fecha, dtype: int32"
      ]
     },
     "execution_count": 26,
     "metadata": {},
     "output_type": "execute_result"
    }
   ],
   "source": [
    "menues_elegidos_df = pd.read_excel('./facundo.xlsx',sheet_name='menues')\n",
    "menues_elegidos_df['fecha'].dt.day"
   ]
  },
  {
   "cell_type": "code",
   "execution_count": null,
   "id": "ce30a3e6",
   "metadata": {},
   "outputs": [],
   "source": [
    "class Reserva:\n",
    "    driver = webdriver.Chrome(options=chrome_options)\n",
    "    url_login = 'https://comedores.unr.edu.ar/'\n",
    "    url_reservas = 'https://comedores.unr.edu.ar/comedor-reserva/reservar'\n",
    "    comedor = None\n",
    "    menu = None\n",
    "    u_logueado = False\n",
    "    \n",
    "    def __init__(self,u_dni:'str',u_clave:'str',op_eledigas:pd.DataFrame):\n",
    "        self.u_dni = u_dni\n",
    "        self.u_clave = u_clave\n",
    "        self.op_eledigas = op_eledigas\n",
    "    def cerrar_navegador(self):\n",
    "        print('se cierra el navegador')\n",
    "        self.driver.quit()\n",
    "    \n",
    "    def loguearse(self):\n",
    "        # Abrir la página web\n",
    "        try:\n",
    "            self.driver.get(self.url_login)\n",
    "            # Capturar el elemento formulario\n",
    "            e_form = WebDriverWait(driver=self.driver, timeout=2).until(\n",
    "                EC.presence_of_element_located(locator=(By.ID, \"form-login\"))\n",
    "            )\n",
    "            print('Formulario de logeo recibido')\n",
    "            # Capturar los elementos del formulario\n",
    "            e_input_dni = e_form.find_element(by=By.NAME,value='form-login[dni]')\n",
    "            e_input_clave = e_form.find_element(by=By.NAME,value='form-login[clave]')\n",
    "            # Completar el forumalario\n",
    "            e_input_dni.send_keys('34178096')\n",
    "            e_input_clave.send_keys('facundo0301')\n",
    "            # Enviar el formulario\n",
    "            e_boton = e_form.find_element(by=By.NAME,value='botones[botonEnviar]')\n",
    "            e_boton.click()\n",
    "            WebDriverWait(self.driver, 10).until(\n",
    "                EC.invisibility_of_element_located(locator=(By.ID, \"form-login\"))\n",
    "            )\n",
    "            self.driver.implicitly_wait(200)\n",
    "            print('Usuario logueado, redireccionando...\\n')        \n",
    "            # Ingresar a la sección de reserva\n",
    "            self.u_logueado = True\n",
    "        except Exception as e:\n",
    "            print(f\"Ocurrió un error al visitar la página: {e}.\")\n",
    "            self.cerrar_navegador()\n",
    "    def ingresar_comedor(self,comedor):\n",
    "        if not self.u_logueado: \n",
    "            print('para elegir un comedor primero hay que loguearse')\n",
    "            return\n",
    "        # Abrir la página web\n",
    "        try:\n",
    "            self.driver.get(self.url_reservas)\n",
    "            e_contenedor_comedores = WebDriverWait(driver=self.driver, timeout=2).until(\n",
    "                EC.presence_of_element_located(locator=(By.CLASS_NAME,'reservar-comedores-contenedor'))\n",
    "            )\n",
    "            e_botones_comedores = e_contenedor_comedores.find_elements(by=By.TAG_NAME,value='button')\n",
    "            n_boton_comedor = comedores_df['comedores'].to_list().index(comedor)\n",
    "            e_boton_salud = e_botones_comedores[n_boton_comedor]\n",
    "            # Ingresar al comedor de Salud\n",
    "            e_boton_salud.click()\n",
    "            print('Ingreso al comedor',comedor)\n",
    "            self.comedor = comedor\n",
    "        except Exception as e:\n",
    "            print(f\"Ocurrió un error al visitar la página: {e}.\")\n",
    "    def buscar_menu(self,menu,dia):\n",
    "        if self.comedor is None: \n",
    "            print('Para reservar un menú primero hay que elegir un comedor')\n",
    "            return\n",
    "        try:\n",
    "            op_reservas = self.driver.find_elements(by=By.CLASS_NAME,value='reservar-servicio')\n",
    "            n_op_mer = op_menu_df[self.comedor].to_list().index(menu)\n",
    "            op_mer = op_reservas[n_op_mer]\n",
    "            op_mer.click()\n",
    "            self.driver.implicitly_wait(20)\n",
    "            print(f'Avancemos en reservar el menú {menu} el día {dia}')\n",
    "            lote_span_n_dia = self.driver.find_elements(by=By.XPATH,value=\"//span[@data-bind='text: numero']\")\n",
    "            span_n_dia_reserva = lote_span_n_dia[dia-1]\n",
    "            div_class_calendario_dia = span_n_dia_reserva.find_element(by=By.XPATH,value=\"../..\")\n",
    "            div_class_calendario_dia_turno = div_class_calendario_dia.find_element(by=By.CLASS_NAME,value=\"calendario-dia-turno\")\n",
    "            info_enlazada = div_class_calendario_dia_turno.get_attribute(name='data-bind')\n",
    "            if not info_enlazada:\n",
    "                print(f'El menú no está disponible: día no habilitado o ya se hizo la reserva\\n')\n",
    "            else:\n",
    "                div_class_calendario_dia_turno.click()\n",
    "                wait = WebDriverWait(self.driver, 10)\n",
    "                div_swal2_container = wait.until(EC.visibility_of_element_located((By.CLASS_NAME, \"swal2-container\")))\n",
    "                div_swal2_error = self.driver.find_element(By.CLASS_NAME, \"swal2-error\")\n",
    "                div_swal2_error_estilo = div_swal2_error.get_attribute('style')\n",
    "                if div_swal2_error_estilo != 'display: none;': \n",
    "                    h2_msg_error = div_swal2_container.find_element(by=By.TAG_NAME,value='h2')\n",
    "                    msg_error = h2_msg_error.text\n",
    "                    print(f'Hay problemas con la reserva del menú: {msg_error}\\n')\n",
    "                else:    \n",
    "                    boton_reservar = self.driver.find_element(By.CSS_SELECTOR, \".swal2-confirm\")\n",
    "                    boton_reservar.click()\n",
    "                    wait.until(EC.invisibility_of_element_located((By.CLASS_NAME, \"swal2-container\")))\n",
    "                    ticket = self.driver.find_element(by=By.CLASS_NAME,value='ticket')\n",
    "                    print('hay ticket',ticket)\n",
    "                    print(f'Menú reservado\\n')\n",
    "        except Exception as e:\n",
    "            print(f\"Ocurrió un error al visitar la página: {e}.\")\n",
    "    def buscar_menues(self):\n",
    "        for _,op_elegida in self.op_eledigas.iterrows():\n",
    "            comedor_elegido = op_elegida['comedor']\n",
    "            menu_elegido = op_elegida['menu']\n",
    "            dia_elegido = op_elegida['fecha'].day\n",
    "            mes_elegido = op_elegida['fecha'].month\n",
    "            self.ingresar_comedor(comedor=comedor_elegido)\n",
    "            self.buscar_menu(menu=menu_elegido,dia=dia_elegido)\n",
    "        self.cerrar_navegador()    "
   ]
  },
  {
   "cell_type": "code",
   "execution_count": 28,
   "id": "5c37d76a",
   "metadata": {},
   "outputs": [
    {
     "name": "stdout",
     "output_type": "stream",
     "text": [
      "Formulario de logeo recibido\n",
      "Usuario logueado, redireccionando...\n",
      "\n",
      "5\n",
      "Ingreso al comedor salud\n",
      "Avancemos en reservar el menú mer el día 26\n",
      "El menú no está disponible: día no habilitado o ya se hizo la reserva\n",
      "\n",
      "5\n",
      "Ingreso al comedor salud\n",
      "Avancemos en reservar el menú mer el día 26\n",
      "El menú no está disponible: día no habilitado o ya se hizo la reserva\n",
      "\n",
      "5\n",
      "Ingreso al comedor salud\n",
      "Avancemos en reservar el menú mer el día 27\n",
      "El menú no está disponible: día no habilitado o ya se hizo la reserva\n",
      "\n",
      "5\n",
      "Ingreso al comedor fceia\n",
      "Avancemos en reservar el menú mer el día 28\n",
      "El menú no está disponible: día no habilitado o ya se hizo la reserva\n",
      "\n",
      "5\n",
      "Ingreso al comedor salud\n",
      "Avancemos en reservar el menú mer el día 29\n",
      "Hay problemas con la reserva del menú: No tenés saldo suficiente\n",
      "\n",
      "5\n",
      "Ingreso al comedor fceia\n",
      "Avancemos en reservar el menú mer el día 30\n",
      "El menú no está disponible: día no habilitado o ya se hizo la reserva\n",
      "\n",
      "se cierra el navegador\n"
     ]
    }
   ],
   "source": [
    "reserva = Reserva(u_dni='34178096',u_clave='facundo0301',op_eledigas=menues_elegidos_df)\n",
    "reserva.loguearse()\n",
    "reserva.buscar_menues()"
   ]
  }
 ],
 "metadata": {
  "kernelspec": {
   "display_name": "Python 3",
   "language": "python",
   "name": "python3"
  },
  "language_info": {
   "codemirror_mode": {
    "name": "ipython",
    "version": 3
   },
   "file_extension": ".py",
   "mimetype": "text/x-python",
   "name": "python",
   "nbconvert_exporter": "python",
   "pygments_lexer": "ipython3",
   "version": "3.11.9"
  }
 },
 "nbformat": 4,
 "nbformat_minor": 5
}
